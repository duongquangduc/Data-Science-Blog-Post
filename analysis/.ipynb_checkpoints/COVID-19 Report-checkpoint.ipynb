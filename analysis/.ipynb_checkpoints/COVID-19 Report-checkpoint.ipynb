{
 "cells": [
  {
   "cell_type": "markdown",
   "metadata": {},
   "source": [
    "### Data Science Blog Post \n",
    "*This Project follows the CRISP-DM process (Cross Industry Process for Data Mining) outlined for questions through communication.*\n",
    "\n",
    "CRISP-DM\n",
    "\n",
    "1. Business Understanding\n",
    "2. Data Understanding\n",
    "3. Data Preparation\n",
    "4. Data Modeling\n",
    "5. Evaluate the Results\n",
    "6. Deploy"
   ]
  },
  {
   "cell_type": "code",
   "execution_count": null,
   "metadata": {},
   "outputs": [],
   "source": []
  },
  {
   "cell_type": "markdown",
   "metadata": {},
   "source": [
    "### Business Understanding\n",
    "*This means understanding the problem and questions you are interested in tackling in the context of whatever domain you're working in.*\n",
    "...\n",
    "The 3 questions to answer:\n",
    "1. The evolution of confirmed, recovered, and death cases overtime\n",
    "2. The heatmap of cases overtime\n",
    "3. Top 10 countries with confirmed, recovered, and death cases\n",
    "4. The age distrition of cases\n",
    "5. Cases evolution of Vietnam"
   ]
  },
  {
   "cell_type": "code",
   "execution_count": null,
   "metadata": {},
   "outputs": [],
   "source": [
    "# Import common packages\n",
    "import pandas as pd\n",
    "import numpy as np\n",
    "import matplotlib.pyplot as plt\n",
    "import seaborn as sns\n",
    "from matplotlib import pyplot as plt\n",
    "import plotly.graph_objects as go"
   ]
  },
  {
   "cell_type": "markdown",
   "metadata": {},
   "source": [
    "### Data Understanding\n",
    "//at this step, you need to move the questions from Business Understanding to data. You might already have data that could be used to answer the questions, or you might have to collect data to get at your questions of interest."
   ]
  },
  {
   "cell_type": "code",
   "execution_count": null,
   "metadata": {},
   "outputs": [],
   "source": [
    "# Loading data\n",
    "covid19 = pd.read_csv(r\"C:\\Users\\DucDQ1\\Desktop\\Data-Science-Blog-Post-master\\Data-Science-Blog-Post-master\\datasources\\novel-corona-virus-2019-dataset\\covid_19_data.csv\")\n",
    "\n",
    "PATH = \"C:\\\\Users\\\\DucDQ1\\\\Desktop\\\\Data-Science-Blog-Post-master\\\\Data-Science-Blog-Post-master\\\\datasources\\\\novel-corona-virus-2019-dataset\\\\\"\n",
    "\n",
    "data = pd.read_csv(PATH + 'covid_19_data.csv', date_parser=['Last Update'])\n",
    "data.head()\n",
    "\n",
    "df = pd.read_csv(PATH + 'covid_19_data.csv', date_parser=['Last Update'])\n",
    "df.rename(columns={'ObservationDate':'Date', 'Country/Region':'Country'}, inplace=True)\n",
    "\n",
    "df_confirmed = pd.read_csv(PATH + 'time_series_covid_19_confirmed.csv')\n",
    "\n",
    "df_recovered = pd.read_csv(PATH + 'time_series_covid_19_recovered.csv')\n",
    "\n",
    "df_deaths = pd.read_csv(PATH + 'time_series_covid_19_deaths.csv')\n",
    "\n",
    "df_confirmed.rename(columns={'Country/Region':'Country'}, inplace=True)\n",
    "df_recovered.rename(columns={'Country/Region':'Country'}, inplace=True)\n",
    "df_deaths.rename(columns={'Country/Region':'Country'}, inplace=True)\n"
   ]
  },
  {
   "cell_type": "code",
   "execution_count": null,
   "metadata": {},
   "outputs": [],
   "source": []
  },
  {
   "cell_type": "code",
   "execution_count": null,
   "metadata": {},
   "outputs": [],
   "source": []
  },
  {
   "cell_type": "code",
   "execution_count": null,
   "metadata": {},
   "outputs": [],
   "source": [
    "# Checking if there is any null values\n",
    "covid19.isnull().any()"
   ]
  },
  {
   "cell_type": "code",
   "execution_count": null,
   "metadata": {},
   "outputs": [],
   "source": [
    "# Seeing the datset with null rows\n",
    "covid19[covid19.isnull().any(axis=1)]"
   ]
  },
  {
   "cell_type": "code",
   "execution_count": null,
   "metadata": {},
   "outputs": [],
   "source": [
    "df_confirmed.head()"
   ]
  },
  {
   "cell_type": "code",
   "execution_count": null,
   "metadata": {},
   "outputs": [],
   "source": [
    "# Earliest cases with the current dataset\n",
    "df.head()"
   ]
  },
  {
   "cell_type": "code",
   "execution_count": null,
   "metadata": {},
   "outputs": [],
   "source": [
    "# Latest cases with the current dataset\n",
    "df.tail()"
   ]
  },
  {
   "cell_type": "code",
   "execution_count": null,
   "metadata": {},
   "outputs": [],
   "source": []
  },
  {
   "cell_type": "markdown",
   "metadata": {},
   "source": [
    "We can now look at the third step of the process:\n",
    "### Data Preparation"
   ]
  },
  {
   "cell_type": "markdown",
   "metadata": {},
   "source": [
    "The evolution of confirmed, recovered, and death cases overtime"
   ]
  },
  {
   "cell_type": "code",
   "execution_count": null,
   "metadata": {},
   "outputs": [],
   "source": [
    "confirmed = df.groupby('Date').sum()['Confirmed'].reset_index()\n",
    "deaths = df.groupby('Date').sum()['Deaths'].reset_index()\n",
    "recovered = df.groupby('Date').sum()['Recovered'].reset_index()\n",
    "\n",
    "fig = go.Figure()\n",
    "fig.add_trace(go.Bar(x=confirmed['Date'],\n",
    "                y=confirmed['Confirmed'],\n",
    "                name='Confirmed',\n",
    "                marker_color='blue'\n",
    "                ))\n",
    "fig.add_trace(go.Bar(x=deaths['Date'],\n",
    "                y=deaths['Deaths'],\n",
    "                name='Deaths',\n",
    "                marker_color='Red'\n",
    "                ))\n",
    "fig.add_trace(go.Bar(x=recovered['Date'],\n",
    "                y=recovered['Recovered'],\n",
    "                name='Recovered',\n",
    "                marker_color='Green'\n",
    "                ))\n",
    "\n",
    "fig.update_layout(\n",
    "    title='Worldwide Corona Virus Cases - Confirmed, Deaths, Recovered (Bar Chart)',\n",
    "    xaxis_tickfont_size=14,\n",
    "    yaxis=dict(\n",
    "        title='Number of Cases',\n",
    "        titlefont_size=16,\n",
    "        tickfont_size=14,\n",
    "    ),\n",
    "    legend=dict(\n",
    "        x=0,\n",
    "        y=1.0,\n",
    "        bgcolor='rgba(255, 255, 255, 0)',\n",
    "        bordercolor='rgba(255, 255, 255, 0)'\n",
    "    ),\n",
    "    barmode='group',\n",
    "    bargap=0.15, # gap between bars of adjacent location coordinates.\n",
    "    bargroupgap=0.1 # gap between bars of the same location coordinate.\n",
    ")\n",
    "fig.show()"
   ]
  },
  {
   "cell_type": "markdown",
   "metadata": {},
   "source": [
    " The heatmap of cases overtime"
   ]
  },
  {
   "cell_type": "code",
   "execution_count": null,
   "metadata": {},
   "outputs": [],
   "source": [
    "df_confirmed = df_confirmed[[\"Province/State\",\"Lat\",\"Long\",\"Country\"]]\n",
    "df_temp = df.copy()\n",
    "df_temp['Country'].replace({'Mainland China': 'China'}, inplace=True)\n",
    "df_latlong = pd.merge(df_temp, df_confirmed, on=[\"Country\", \"Province/State\"])"
   ]
  },
  {
   "cell_type": "code",
   "execution_count": null,
   "metadata": {},
   "outputs": [],
   "source": [
    "fig = px.density_mapbox(df_latlong, \n",
    "                        lat=\"Lat\", \n",
    "                        lon=\"Long\", \n",
    "                        hover_name=\"Province/State\", \n",
    "                        hover_data=[\"Confirmed\",\"Deaths\",\"Recovered\"], \n",
    "                        animation_frame=\"Date\",\n",
    "                        color_continuous_scale=\"Portland\",\n",
    "                        radius=7, \n",
    "                        zoom=0,height=700)\n",
    "fig.update_layout(title='Worldwide Corona Virus Cases Time Lapse - Confirmed, Deaths, Recovered',\n",
    "                  font=dict(family=\"Courier New, monospace\",\n",
    "                            size=18,\n",
    "                            color=\"#7f7f7f\")\n",
    "                 )\n",
    "fig.update_layout(mapbox_style=\"open-street-map\", mapbox_center_lon=0)\n",
    "fig.update_layout(margin={\"r\":0,\"t\":0,\"l\":0,\"b\":0})\n",
    "\n",
    "\n",
    "fig.show()"
   ]
  },
  {
   "cell_type": "code",
   "execution_count": null,
   "metadata": {},
   "outputs": [],
   "source": []
  },
  {
   "cell_type": "markdown",
   "metadata": {},
   "source": [
    "Top 10 countries with confirmed, recovered, and death cases"
   ]
  },
  {
   "cell_type": "code",
   "execution_count": null,
   "metadata": {},
   "outputs": [],
   "source": [
    "country=covid19.groupby(['Country/Region'])[['Confirmed','Recovered','Deaths']].sum()\n",
    "top_10=country.nlargest(10,['Confirmed'])\n",
    "plt.figure(figsize=(20,16))\n",
    "plt.subplot(311)\n",
    "plt.title('Top 10 Countries with confirmed, recovered and death cases',fontsize=20)\n",
    "plt.barh(top_10.index,top_10['Confirmed'],color='blue')\n",
    "plt.yticks(fontsize=20)\n",
    "plt.xlabel('Confirmed',fontsize=20)\n",
    "plt.subplot(312)\n",
    "plt.barh(top_10.index,top_10['Deaths'],color='red')\n",
    "plt.yticks(fontsize=20)\n",
    "plt.xlabel('Deaths',fontsize=20)\n",
    "plt.subplot(313)\n",
    "plt.barh(top_10.index,top_10['Recovered'],color='green')\n",
    "plt.yticks(fontsize=20)\n",
    "plt.xlabel('Recovered',fontsize=20)"
   ]
  },
  {
   "cell_type": "markdown",
   "metadata": {},
   "source": [
    "The age distrition of cases"
   ]
  },
  {
   "cell_type": "code",
   "execution_count": null,
   "metadata": {},
   "outputs": [],
   "source": [
    "plt.figure(figsize=(15, 6))\n",
    "sns.distplot(data['age'], rug=False, bins=50, color='g')\n",
    "plt.title('Age Distribution')\n",
    "plt.xlabel(\"Age\");\n",
    "plt.show()"
   ]
  },
  {
   "cell_type": "code",
   "execution_count": null,
   "metadata": {},
   "outputs": [],
   "source": []
  },
  {
   "cell_type": "markdown",
   "metadata": {},
   "source": [
    "Cases evolution of Vietnam"
   ]
  },
  {
   "cell_type": "code",
   "execution_count": null,
   "metadata": {},
   "outputs": [],
   "source": [
    "# By Country - Vietnam\n",
    "df.query('Country==\"Vietnam\"').groupby(\"Last Update\")[['Confirmed', 'Deaths', 'Recovered']].sum().reset_index()"
   ]
  },
  {
   "cell_type": "code",
   "execution_count": null,
   "metadata": {},
   "outputs": [],
   "source": [
    "italy = df[df['Country/Region'] == 'Vietnam']\n",
    "new_italy_ = italy.groupby('Last Update')[main_cols].sum()\n",
    "\n",
    "plt.figure(figsize=(15, 8))\n",
    "plt.plot(new_italy_['Confirmed'], 'y--', lw=4, label='Italy Confirmed')\n",
    "plt.plot(new_italy_['Recovered'], 'g--', lw=4, label='Italy Recovered')\n",
    "plt.plot(new_italy_['Deaths'], 'r--', lw=4, label='Italy Deaths')\n",
    "\n",
    "plt.xlabel('Date', fontsize=20)\n",
    "plt.ylabel('No. of Italy Cases', fontsize=20)\n",
    "plt.title('Total Italy Cases Between 22/1 and 18/3', fontsize=20)\n",
    "\n",
    "x = new_df.index\n",
    "labels = x.values\n",
    "plt.xticks(rotation='45')\n",
    "\n",
    "plt.legend(loc='best')\n",
    "plt.show()"
   ]
  },
  {
   "cell_type": "markdown",
   "metadata": {},
   "source": [
    "### Data Modeling\n",
    "When looking at the questions, there is no need to do any predictive modeling. I can use only descriptive and a little inferential statistics to retrieve teh results. Therefore, the step **Data Modeling** in CRISP-DM is not necessary to answer the questions."
   ]
  },
  {
   "cell_type": "code",
   "execution_count": null,
   "metadata": {},
   "outputs": [],
   "source": []
  },
  {
   "cell_type": "markdown",
   "metadata": {},
   "source": [
    "### Evaluate the Results"
   ]
  },
  {
   "cell_type": "code",
   "execution_count": null,
   "metadata": {},
   "outputs": [],
   "source": []
  },
  {
   "cell_type": "markdown",
   "metadata": {},
   "source": [
    "### Deploy"
   ]
  },
  {
   "cell_type": "code",
   "execution_count": null,
   "metadata": {},
   "outputs": [],
   "source": []
  },
  {
   "cell_type": "code",
   "execution_count": null,
   "metadata": {},
   "outputs": [],
   "source": []
  }
 ],
 "metadata": {
  "kernelspec": {
   "display_name": "Python 3",
   "language": "python",
   "name": "python3"
  },
  "language_info": {
   "codemirror_mode": {
    "name": "ipython",
    "version": 3
   },
   "file_extension": ".py",
   "mimetype": "text/x-python",
   "name": "python",
   "nbconvert_exporter": "python",
   "pygments_lexer": "ipython3",
   "version": "3.7.6"
  }
 },
 "nbformat": 4,
 "nbformat_minor": 4
}
